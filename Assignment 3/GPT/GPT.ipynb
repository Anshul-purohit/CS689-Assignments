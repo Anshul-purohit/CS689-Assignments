{
 "cells": [
  {
   "cell_type": "markdown",
   "id": "6dbba2d9",
   "metadata": {},
   "source": [
    "## Part 2"
   ]
  },
  {
   "cell_type": "code",
   "execution_count": 1,
   "id": "22599a5c",
   "metadata": {
    "collapsed": true
   },
   "outputs": [
    {
     "name": "stdout",
     "output_type": "stream",
     "text": [
      "Requirement already satisfied: rouge in /Users/anshulpurohit/opt/anaconda3/lib/python3.9/site-packages (1.0.1)\r\n",
      "Requirement already satisfied: six in /Users/anshulpurohit/opt/anaconda3/lib/python3.9/site-packages (from rouge) (1.16.0)\r\n"
     ]
    }
   ],
   "source": [
    "! pip install rouge"
   ]
  },
  {
   "cell_type": "code",
   "execution_count": 2,
   "id": "0239f2d9",
   "metadata": {},
   "outputs": [],
   "source": [
    "import nltk\n",
    "from nltk.translate.bleu_score import corpus_bleu\n",
    "from rouge import Rouge"
   ]
  },
  {
   "cell_type": "code",
   "execution_count": 3,
   "id": "3d354c14",
   "metadata": {},
   "outputs": [],
   "source": [
    "def bleu_score(ground_truth , output):\n",
    "    b_score = 0\n",
    "    b_score = corpus_bleu([[ref] for ref in ground_truth], output)\n",
    "    return b_score\n",
    "   \n",
    "def rouge_score(ground_truth , output):\n",
    "    rouge = Rouge()\n",
    "    scores = rouge.get_scores(ground_truth,output,avg=True)\n",
    "    return scores"
   ]
  },
  {
   "cell_type": "markdown",
   "id": "efde2f67",
   "metadata": {},
   "source": [
    "### 1. English to Hindi"
   ]
  },
  {
   "cell_type": "code",
   "execution_count": 4,
   "id": "205611d8",
   "metadata": {},
   "outputs": [],
   "source": [
    "with open(\"English_to_Hindi/En_to_Hi.txt\",\"r\",encoding=\"utf-8\") as file:\n",
    "    En_to_Hi = file.readlines()\n",
    "\n",
    "with open(\"English_to_Hindi/En_to_Hi_Original.txt\",\"r\",encoding=\"utf-8\") as file:\n",
    "    En_to_Hi_Original = file.readlines()"
   ]
  },
  {
   "cell_type": "code",
   "execution_count": 5,
   "id": "a6d3102d",
   "metadata": {},
   "outputs": [
    {
     "name": "stdout",
     "output_type": "stream",
     "text": [
      "Bleu Score :  0.6166150885037212\n"
     ]
    }
   ],
   "source": [
    "print(\"Bleu Score : \",bleu_score(En_to_Hi_Original,En_to_Hi))"
   ]
  },
  {
   "cell_type": "code",
   "execution_count": 6,
   "id": "4f304911",
   "metadata": {},
   "outputs": [
    {
     "name": "stdout",
     "output_type": "stream",
     "text": [
      "rouge-1  :  {'r': 0.5902300304856638, 'p': 0.5696823367283433, 'f': 0.5780784982462601}\n",
      "rouge-2  :  {'r': 0.3359028474679372, 'p': 0.32437603093811, 'f': 0.32907551627614046}\n",
      "rouge-l  :  {'r': 0.5422047065761293, 'p': 0.5217512585472651, 'f': 0.5302962952480269}\n"
     ]
    }
   ],
   "source": [
    "rougeScore = rouge_score(En_to_Hi_Original,En_to_Hi)\n",
    "\n",
    "for i,j in rougeScore.items():\n",
    "    print(i , \" : \" , j)               "
   ]
  },
  {
   "cell_type": "markdown",
   "id": "b009b8f5",
   "metadata": {},
   "source": [
    "### 2. Hindi to English"
   ]
  },
  {
   "cell_type": "code",
   "execution_count": 7,
   "id": "4f0e2d79",
   "metadata": {},
   "outputs": [],
   "source": [
    "with open(\"Hindi_to_English/Hi_to_En.txt\",\"r\",encoding=\"utf-8\") as file:\n",
    "    Hi_to_En = file.readlines()\n",
    "\n",
    "with open(\"Hindi_to_English/Hi_to_En_Original.txt\",\"r\",encoding=\"utf-8\") as file:\n",
    "    Hi_to_En_Original = file.readlines()"
   ]
  },
  {
   "cell_type": "code",
   "execution_count": 8,
   "id": "cace1df9",
   "metadata": {},
   "outputs": [
    {
     "name": "stdout",
     "output_type": "stream",
     "text": [
      "Bleu Score :  0.6924387569942543\n"
     ]
    }
   ],
   "source": [
    "print(\"Bleu Score : \",bleu_score(Hi_to_En_Original,Hi_to_En))"
   ]
  },
  {
   "cell_type": "code",
   "execution_count": 9,
   "id": "6d5216a7",
   "metadata": {},
   "outputs": [
    {
     "name": "stdout",
     "output_type": "stream",
     "text": [
      "rouge-1  :  {'r': 0.6101105603115969, 'p': 0.6120678425977186, 'f': 0.6078969426790547}\n",
      "rouge-2  :  {'r': 0.37684577550017484, 'p': 0.3757120607497727, 'f': 0.37371356450207055}\n",
      "rouge-l  :  {'r': 0.5889275074593623, 'p': 0.5907629632665234, 'f': 0.5867006520139373}\n"
     ]
    }
   ],
   "source": [
    "rougeScore = rouge_score(Hi_to_En_Original,Hi_to_En)\n",
    "\n",
    "for i,j in rougeScore.items():\n",
    "    print(i , \" : \" , j)"
   ]
  },
  {
   "cell_type": "markdown",
   "id": "38a8a641",
   "metadata": {},
   "source": [
    "### 3. Hindi to Marathi"
   ]
  },
  {
   "cell_type": "code",
   "execution_count": 10,
   "id": "f080a5d6",
   "metadata": {},
   "outputs": [],
   "source": [
    "with open(\"Hindi_to_Marathi/Hi_to_Mr.txt\",\"r\",encoding=\"utf-8\") as file:\n",
    "    Hi_to_Mr = file.readlines()\n",
    "\n",
    "with open(\"Hindi_to_Marathi/Hi_to_Mr_Original.txt\",\"r\",encoding=\"utf-8\") as file:\n",
    "    Hi_to_Mr_Original = file.readlines()"
   ]
  },
  {
   "cell_type": "code",
   "execution_count": 11,
   "id": "b0ae0d55",
   "metadata": {},
   "outputs": [
    {
     "name": "stdout",
     "output_type": "stream",
     "text": [
      "Bleu Score :  0.45228646094340247\n"
     ]
    }
   ],
   "source": [
    "print(\"Bleu Score : \",bleu_score(Hi_to_Mr_Original,Hi_to_Mr))"
   ]
  },
  {
   "cell_type": "code",
   "execution_count": 12,
   "id": "5e167650",
   "metadata": {},
   "outputs": [
    {
     "name": "stdout",
     "output_type": "stream",
     "text": [
      "rouge-1  :  {'r': 0.27939858916528054, 'p': 0.2825290975457889, 'f': 0.2788451747579006}\n",
      "rouge-2  :  {'r': 0.08202905135799872, 'p': 0.08596615802498157, 'f': 0.083175773575077}\n",
      "rouge-l  :  {'r': 0.2701323553990468, 'p': 0.2732892365296121, 'f': 0.26968610059219605}\n"
     ]
    }
   ],
   "source": [
    "rougeScore = rouge_score(Hi_to_Mr_Original,Hi_to_Mr)\n",
    "\n",
    "for i,j in rougeScore.items():\n",
    "    print(i , \" : \" , j)"
   ]
  },
  {
   "cell_type": "markdown",
   "id": "6c8dfd26",
   "metadata": {},
   "source": [
    "### 4. Marathi to Hindi"
   ]
  },
  {
   "cell_type": "code",
   "execution_count": 13,
   "id": "8a6741b3",
   "metadata": {},
   "outputs": [],
   "source": [
    "with open(\"Marathi_to_Hindi/Mr_to_Hi.txt\",\"r\",encoding=\"utf-8\") as file:\n",
    "    Mr_to_Hi = file.readlines()\n",
    "\n",
    "with open(\"Marathi_to_Hindi/Mr_to_Hi_Original.txt\",\"r\",encoding=\"utf-8\") as file:\n",
    "    Mr_to_Hi_Original = file.readlines()"
   ]
  },
  {
   "cell_type": "code",
   "execution_count": 14,
   "id": "8f6ad5eb",
   "metadata": {},
   "outputs": [
    {
     "name": "stdout",
     "output_type": "stream",
     "text": [
      "Bleu Score :  0.4945372323286291\n"
     ]
    }
   ],
   "source": [
    "print(\"Bleu Score : \",bleu_score(Mr_to_Hi_Original,Mr_to_Hi))"
   ]
  },
  {
   "cell_type": "code",
   "execution_count": 15,
   "id": "4039e5a6",
   "metadata": {},
   "outputs": [
    {
     "name": "stdout",
     "output_type": "stream",
     "text": [
      "rouge-1  :  {'r': 0.4054991131368117, 'p': 0.3856036760255194, 'f': 0.38927085115862603}\n",
      "rouge-2  :  {'r': 0.16763423122322701, 'p': 0.15829215710966804, 'f': 0.16067218411262232}\n",
      "rouge-l  :  {'r': 0.3394996574105549, 'p': 0.3220572322651, 'f': 0.32563843892387717}\n"
     ]
    }
   ],
   "source": [
    "rougeScore = rouge_score(Mr_to_Hi_Original,Mr_to_Hi)\n",
    "\n",
    "for i,j in rougeScore.items():\n",
    "    print(i , \" : \" , j)"
   ]
  }
 ],
 "metadata": {
  "kernelspec": {
   "display_name": "Python 3 (ipykernel)",
   "language": "python",
   "name": "python3"
  },
  "language_info": {
   "codemirror_mode": {
    "name": "ipython",
    "version": 3
   },
   "file_extension": ".py",
   "mimetype": "text/x-python",
   "name": "python",
   "nbconvert_exporter": "python",
   "pygments_lexer": "ipython3",
   "version": "3.9.13"
  }
 },
 "nbformat": 4,
 "nbformat_minor": 5
}
